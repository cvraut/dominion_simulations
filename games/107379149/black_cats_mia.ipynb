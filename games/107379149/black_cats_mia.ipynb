{
 "cells": [
  {
   "cell_type": "markdown",
   "id": "84e1ffea-830f-4fcb-8fec-adf8f61fe615",
   "metadata": {
    "tags": []
   },
   "source": [
    "# Black cats MIA 🐱‍👤"
   ]
  },
  {
   "cell_type": "markdown",
   "id": "f3900b0e-d320-441f-8d4b-f1c5facf035e",
   "metadata": {},
   "source": [
    "## Game 107379149\n",
    "\n",
    "<img src=\"pics/discord_game_summary.png\" alt=\"discord_game_summary\" width=\"300\"/>\n",
    "\n",
    "This was a game that took place between Player MunkFSH (I) and yoifuro on Sept 3rd around 8am EDT. This was our 5th game in our Season 53 League D3 match.\n",
    "\n",
    "Although it lasted only 11 turns, this board was rather complex due to a couple key interactions.\n",
    "- Remake - Poor House\n",
    "  - An annoying interaction between the two since we would like to use remake to get rid of coppers from our deck. Due to the presence of poor house, the remake would turn coppers into poor houses making it signficantly worse as a trasher.\n",
    "- Black cat - Way of the frog\n",
    "  - If we know in advance that it is very likely that our opponent will buy a green card in the following turn (for example right after securing a vp lead), we can use way of the frog to top-deck black cats as a way to attack our opponent or dissuade them from purchasing green cards.\n",
    "- Mastermind - Way of the frog\n",
    "  - Similar to the previous interaction we can use way of the frog to topdeck cards we have in our hand now, that we would like to mastermind in the following turn. Ideally you would want to mastermind a draw card like black cat or hunting grounds due to the lack of trashing on the board.\n",
    "  \n",
    "I made an interesting play on turn 9 (decision number 128) that I would like to investigate further."
   ]
  },
  {
   "cell_type": "markdown",
   "id": "14342038-bb11-449e-8031-fb5189579139",
   "metadata": {},
   "source": [
    "## An Interesting Decision"
   ]
  },
  {
   "cell_type": "markdown",
   "id": "150b61fa-dc9e-4078-81f0-1a499589d00c",
   "metadata": {},
   "source": [
    "<img src=\"pics/main_decision_point.png\" alt=\"discord_game_summary\" width=\"1000\"/>\n",
    "\n",
    "Here I played the remake to try to score some points. Because I remade my estates earlier into silvers and anvils I was down 3 points to my opponent. I needed to score at least 4 points this turn to take the lead. I was planning on converting the poor house --> estate, converting the wandering minstrel --> duchy, and purchasing a province giving myself a 7-point lead over my opponent. This would then let me top-deck 2 black cats via way of the frog effectively giving myself a 9-point lead over my opponent. I knew my opponent had 5 black cats in his deck (I had the remaining 5). The previous turn my opponent had triggered a fresh shuffle without top-decking any black cats. I figured if I could end the turn taking 3 curses or fewer, I would have a pretty good chance at finishing the game by piling anvils.\n",
    "\n",
    "If my opponent played 3 black cats exactly, they would have 11 cards in hand with a good chance they can province + duchy, but not more than that. They would receive 2 curses from my cats leading to even points. This would lead to a tie if I can end the game on my turn.\n",
    "\n",
    "Any fewer black cats and I would likely win due to the point advantage. Any more cats and I would lose due to the point deficit.\n",
    "\n",
    "In the actual game my opponent had no black cats in their hand on this turn and I proceeded to win off of my point lead & by piling the anvils. This was the best case scenario for me, but this outcome was far from guaranteed. It was not a safe play, but it did get my statistical brain thinking. \n",
    "- How likely was this scenario? \n",
    "- How likely was the event that I would receive 2 curses or less on turn 9? \n",
    "- How risky was my play on turn 9? \n",
    "- How did I evaluate such a complex board state in less than a minute? \n",
    "- And did I make a mistake during my rapid calculations?"
   ]
  },
  {
   "cell_type": "markdown",
   "id": "7164bc68-1fc6-4a43-af3d-b974a327c859",
   "metadata": {},
   "source": [
    "## How likely was my opponent to not have any black cats in their starting hand? 🐱‍👤"
   ]
  },
  {
   "cell_type": "markdown",
   "id": "1065c1b7-2d14-4d67-868a-d9a33a6d8133",
   "metadata": {},
   "source": [
    "This is a simple probability problem.\n",
    "\n",
    "My opponent has 25 cards in their deck total, and they draw 5 at the end of their turn. They did not use way of the frog to topdeck any black cats, and they had no cards in their drawpile (triggered a fresh shuffle).\n",
    "\n",
    "Going through the 5 cards they draw one-by-one treating each draw as an independent event we get the following probabilities for avoiding a black cat as: \n",
    "- $\\frac{20}{25}$ for the first draw (5 🐈's in deck)\n",
    "- $\\frac{19}{24}$ for the second draw (5 🐈's in deck, but we took a non-cat out)\n",
    "- $\\frac{18}{23}$ for the third draw\n",
    "- $\\frac{17}{22}$ for the fourth draw\n",
    "- $\\frac{16}{21}$ for the fifth draw\n",
    "Since these events are independent of each other we can find their joint probability by multiplying these fractions together\n",
    "$$\\frac{20*19*18*17*16}{25*24*23*22*21}$$"
   ]
  },
  {
   "cell_type": "code",
   "execution_count": 5,
   "id": "dcdcf7af-550c-411d-9a61-9eac3d53d19a",
   "metadata": {},
   "outputs": [
    {
     "data": {
      "text/plain": [
       "0.29181253529079615"
      ]
     },
     "execution_count": 5,
     "metadata": {},
     "output_type": "execute_result"
    }
   ],
   "source": [
    "from functools import reduce\n",
    "reduce(lambda x,y: x*y,[(i-5)/i for i in range(25,20,-1)])"
   ]
  },
  {
   "cell_type": "markdown",
   "id": "c4ee2c76-d027-48a4-8b0e-c6e10b224b7a",
   "metadata": {},
   "source": [
    "There's about a 29.2% chance that my opponent did not have any black cats in their starting hand giving their previous turn play."
   ]
  },
  {
   "cell_type": "markdown",
   "id": "aef25e06-2fcd-43ce-bb39-24bd3cb032c3",
   "metadata": {},
   "source": [
    "## How likely was the event that I would receive 2 curses or less on turn 9?"
   ]
  },
  {
   "cell_type": "markdown",
   "id": "2c25f166-0973-4fd7-a465-536b35634ecb",
   "metadata": {},
   "source": [
    "To calculate this probability it is a bit tricker as each black cat can dig a further 2 cards deeper into the deck. In fact if we wanted to enumerate all the possibilities to search through, we would have to look at the first 13 cards of my opponent's deck as the 1st black cat could draw the 6th & 7th cards, the second black cat can draw the 8th & 9th cards, the third black cat can draw the 10th & 11th cards, and the 4th black cat can draw the 12th and 13th cards (the 5th black cat will draw an additional 2 cards but at that point those cards don't matter since my opponent found all their black cats).\n",
    "\n",
    "Enumerating all the possibilities of 13 initial cards is huge!\n",
    "\n",
    "$$25 *24 *23 *22 *21 *20 *19 *18 *17 *16 *15 *14 *13$$"
   ]
  },
  {
   "cell_type": "code",
   "execution_count": 9,
   "id": "f14d933a-00f1-4783-9f18-de9def2dbe93",
   "metadata": {},
   "outputs": [
    {
     "data": {
      "text/plain": [
       "32382376266240000"
      ]
     },
     "execution_count": 9,
     "metadata": {},
     "output_type": "execute_result"
    }
   ],
   "source": [
    "reduce(lambda x,y: x*y,[i for i in range(25,25-13,-1)])"
   ]
  },
  {
   "cell_type": "markdown",
   "id": "64f03708-609d-4a40-a69d-b0e8e9f1077c",
   "metadata": {},
   "source": [
    "That's 32,382,376,266,240,000! I have no way of enumerating all those possibilities, but they might not all matter. In fact when my opponent runs out cats the order of the remaining 13 cards doesn't really matter, so we can make use of some early termination principles to try to make this probability easier to calculate. Specifically I will start by naming the 6 important outcomes that my opponent might react with:\n",
    "- 0 black cats\n",
    "- 1 black cat\n",
    "- 2 black cats\n",
    "- 3 black cats\n",
    "- 4 black cats\n",
    "- 5 black cats\n",
    "\n",
    "Going through each of the 6 cases:\n",
    "- 0 black cats\n",
    "  - There are $(20*19*18*17*16) * 20 * 19 * 18 * 17 * 16 * 15 * 14 * 13$ options for a 13-card starting deck to result in 0 black cats in the first 5-card hand.\n",
    "- 1 black cat\n",
    "  - $5*(5*20*19*18*17)* 16 * 15 * 18 * 17 *16 * 15 * 14 * 13$\n",
    "- 2 black cats\n",
    "  - $10*(5*4*20*19*18)*17*16*15*14 16*15*14*13 +$\n",
    "  - $5*(5*20*19*18*17)*2*(4*16)*15*14*16*15*14*13$\n",
    "- 3 black cats"
   ]
  },
  {
   "cell_type": "markdown",
   "id": "03c7eb13-17c3-4c21-bc66-67fc4d239fe2",
   "metadata": {},
   "source": [
    "### MC simulations to verify math"
   ]
  },
  {
   "cell_type": "code",
   "execution_count": 7,
   "id": "f1c88e55-fef9-48a9-8ff9-665fc1e8f262",
   "metadata": {},
   "outputs": [
    {
     "data": {
      "text/html": [
       "<div>\n",
       "<style scoped>\n",
       "    .dataframe tbody tr th:only-of-type {\n",
       "        vertical-align: middle;\n",
       "    }\n",
       "\n",
       "    .dataframe tbody tr th {\n",
       "        vertical-align: top;\n",
       "    }\n",
       "\n",
       "    .dataframe thead th {\n",
       "        text-align: right;\n",
       "    }\n",
       "</style>\n",
       "<table border=\"1\" class=\"dataframe\">\n",
       "  <thead>\n",
       "    <tr style=\"text-align: right;\">\n",
       "      <th></th>\n",
       "      <th>cats</th>\n",
       "      <th>counts</th>\n",
       "      <th>%</th>\n",
       "    </tr>\n",
       "  </thead>\n",
       "  <tbody>\n",
       "    <tr>\n",
       "      <th>0</th>\n",
       "      <td>0</td>\n",
       "      <td>291586</td>\n",
       "      <td>0.291586</td>\n",
       "    </tr>\n",
       "    <tr>\n",
       "      <th>1</th>\n",
       "      <td>1</td>\n",
       "      <td>288073</td>\n",
       "      <td>0.288073</td>\n",
       "    </tr>\n",
       "    <tr>\n",
       "      <th>2</th>\n",
       "      <td>2</td>\n",
       "      <td>210897</td>\n",
       "      <td>0.210897</td>\n",
       "    </tr>\n",
       "    <tr>\n",
       "      <th>3</th>\n",
       "      <td>3</td>\n",
       "      <td>128051</td>\n",
       "      <td>0.128051</td>\n",
       "    </tr>\n",
       "    <tr>\n",
       "      <th>4</th>\n",
       "      <td>4</td>\n",
       "      <td>62519</td>\n",
       "      <td>0.062519</td>\n",
       "    </tr>\n",
       "  </tbody>\n",
       "</table>\n",
       "</div>"
      ],
      "text/plain": [
       "   cats  counts         %\n",
       "0     0  291586  0.291586\n",
       "1     1  288073  0.288073\n",
       "2     2  210897  0.210897\n",
       "3     3  128051  0.128051\n",
       "4     4   62519  0.062519"
      ]
     },
     "execution_count": 7,
     "metadata": {},
     "output_type": "execute_result"
    }
   ],
   "source": [
    "# perform MC simulations to verify the probabilities & counts\n",
    "from random import shuffle\n",
    "\n",
    "def repeated_sample_without_replacement(my_list, n):\n",
    "    shuffle(my_list)\n",
    "    return my_list[:n]\n",
    "\n",
    "opp_deck = list(range(25)) # cats are 0,1,2,3,4\n",
    "\n",
    "seed = 19890417\n",
    "sims = int(1e6)\n",
    "\n",
    "def count_cats(deck):\n",
    "    # deck is list of ints [0,24]\n",
    "    # cats are [0-4]\n",
    "    cats = 0\n",
    "    draw = 5\n",
    "    i = 0\n",
    "    while draw > 0:\n",
    "        if deck[i] <= 4:\n",
    "            cats+=1\n",
    "            draw+=2\n",
    "        draw-=1\n",
    "        i+=1\n",
    "    return cats\n",
    "\n",
    "# some test cases\n",
    "assert(count_cats([24,23,22,21,20]) == 0)\n",
    "assert(count_cats([24,23,22,21,0,20,19]) == 1)\n",
    "assert(count_cats(list(range(25))) == 5)\n",
    "\n",
    "# run sims\n",
    "results = [count_cats(repeated_sample_without_replacement(opp_deck,15)) for sim in range(sims)]\n",
    "\n",
    "# coallate_results\n",
    "from collections import Counter\n",
    "results_dict = Counter(results)\n",
    "\n",
    "import pandas as pd\n",
    "results_df = pd.DataFrame([{\"cats\":i, \"counts\":results_dict[i], \"%\":results_dict[i]/sims} for i in range(5)])\n",
    "results_df"
   ]
  },
  {
   "cell_type": "markdown",
   "id": "83012b6d-fbc1-4f7f-9e76-808ac30bc29a",
   "metadata": {},
   "source": [
    "## How did I evaluate such a complex board state in less than a minute? ⏱"
   ]
  },
  {
   "cell_type": "markdown",
   "id": "9b6601ce-0501-4678-a5a1-14a244219595",
   "metadata": {},
   "source": [
    "My rational was that 5 black cats in 25 cards, I expect my opponent to have at least 1, maybe 2, very lucky if 3+ in their opening hand. I put my odds of receiving 2 curses or less at ~80%. This was not empirically driven, but in trying to apply quick gameplay reasoning... The first 5 cards can be estimated to be random samples from a binomial(p=0.2) which has an expected value of 1 with variance of 0.8. Within 2 standard deviations, we can expect to see about 2 black cats. Factoring in arithmetic errors, I gave this play about an 80% chance of working the way I wanted it to."
   ]
  }
 ],
 "metadata": {
  "kernelspec": {
   "display_name": "Python 3 (ipykernel)",
   "language": "python",
   "name": "python3"
  },
  "language_info": {
   "codemirror_mode": {
    "name": "ipython",
    "version": 3
   },
   "file_extension": ".py",
   "mimetype": "text/x-python",
   "name": "python",
   "nbconvert_exporter": "python",
   "pygments_lexer": "ipython3",
   "version": "3.10.6"
  }
 },
 "nbformat": 4,
 "nbformat_minor": 5
}
